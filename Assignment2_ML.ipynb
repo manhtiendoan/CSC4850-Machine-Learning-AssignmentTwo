{
  "nbformat": 4,
  "nbformat_minor": 0,
  "metadata": {
    "colab": {
      "provenance": [],
      "authorship_tag": "ABX9TyPoq30jgUHCEtn41udFNmJz",
      "include_colab_link": true
    },
    "kernelspec": {
      "name": "python3",
      "display_name": "Python 3"
    },
    "language_info": {
      "name": "python"
    }
  },
  "cells": [
    {
      "cell_type": "markdown",
      "metadata": {
        "id": "view-in-github",
        "colab_type": "text"
      },
      "source": [
        "<a href=\"https://colab.research.google.com/github/jmbanda/CSC4850-Machine-Learning/blob/main/Assignment2_ML.ipynb\" target=\"_parent\"><img src=\"https://colab.research.google.com/assets/colab-badge.svg\" alt=\"Open In Colab\"/></a>"
      ]
    },
    {
      "cell_type": "markdown",
      "source": [
        "# CSC 4850 / 6850 / DSCI 4850 - Assisgment 2 - (350/400 points)\n",
        "\n",
        "**Total points (350 undergraduate / 400 graduate)**\n",
        "\n",
        "**Student Name: (write your name here)**\n",
        "\n",
        "**Graduate / Undergraduate (select one)**\n",
        "\n",
        "## Instructions:\n",
        "\n",
        "You are to make a copy of this notebook on your own Google Drive (if you don't have one, get one, it is free), and use the exact format provided. Any code needs to go in the code cells, and any 'text' answer/description needs to go in the proper text cell. We will not be looking for answers randomly placed so please read the instructions.\n",
        "\n",
        "You are to use only the libraries provided in the next code cell. Any additional library is NOT allowed and will cause you to lose all the points that use said library's functions/functionality. You can use any functions given in the class code examples, but be very very careful of lifting anything \n",
        "'as-is' from the internet as it will be considerered plagiarism. \n",
        "\n",
        "**IMPORTANT: Make sure you use 1234 for your randomseed/random state. Failure to do so will make your answers not comparable to the answer key and you will get a zero on the whole assignment.**\n",
        "\n",
        "## Submission format:\n",
        "\n",
        "The submission for Assignment two will have two components:\n",
        "\n",
        "1) You are to create a PDF from the PRINT out of this notebook with all cells executed sequentially. It is the student's responsibility to be able to do this and no excuses will be accepted, no legible PDF = zero grade. So practice and test before submission time. This PDF should be named LastName_FirstName-Assignment2.PDF\n",
        "\n",
        "2) The student should create a GitHub repository for this assignment and properly title the repository Class_CODE-ClassName-AssignmentTwo. This repository should have a readme file and the Google Colab notebook in it. Note that colab can save a copy directly to GitHub so make sure you test this. Downloading the notebook file and uploading it directly will result in 200 points deduction. The link to your GitHub repository should be included as text/message in the iCollege submission drop, failure to include this link will result in a 100 point penalty. \n",
        "\n",
        "## Extra Credit for all:\n",
        "\n",
        "Any student can get 50 extra credit points by doing two simple things (you need to do BOTH):\n",
        "\n",
        "1) Make nice and pretty plots (only using the provided packages!)\n",
        "\n",
        "2) Make your GitHub repo professional (this includes your own landing page as well). Examples: https://github.com/abhisheknaiidu/awesome-github-profile-readme\n",
        "\n",
        "\n",
        "Remember that you will need a portfolio for your job search, and a professional looking repo will certainly impress recruiters/interviewers. So this is more of a favor to yourself! (yes, I follow this myself: https://github.com/jmbanda)\n"
      ],
      "metadata": {
        "id": "Uc3L9tKWVV4g"
      }
    },
    {
      "cell_type": "code",
      "execution_count": null,
      "metadata": {
        "id": "PjGD5VGFVS-s"
      },
      "outputs": [],
      "source": [
        "############## These are the only imports allowed to solve this homework, so make sure you do not add anything else down below\n",
        "\n",
        "%matplotlib inline\n",
        "\n",
        "import numpy as np\n",
        "import pandas as pd\n",
        "import sklearn \n",
        "import numpy as np\n",
        "import matplotlib.pyplot as plt\n",
        "import seaborn as sns; sns.set()\n"
      ]
    },
    {
      "cell_type": "markdown",
      "source": [
        "Using the Wine dataset from sklearn:"
      ],
      "metadata": {
        "id": "89_ilQegV-MS"
      }
    },
    {
      "cell_type": "code",
      "source": [
        "#get the wine dataset from sklearn and take a look at the description provided\n",
        "from sklearn import datasets\n",
        "wine = datasets.load_wine()"
      ],
      "metadata": {
        "id": "J_sakm7HV90A"
      },
      "execution_count": null,
      "outputs": []
    },
    {
      "cell_type": "markdown",
      "source": [
        "# Question 1 (10 points)\n",
        "\n",
        "What can you say about the dataset (use code to descirbe it)? any particular things of interest? Find at least two things that you find interesting."
      ],
      "metadata": {
        "id": "0TLvYCXVbHN9"
      }
    },
    {
      "cell_type": "code",
      "source": [
        "##### Code block for Question 1"
      ],
      "metadata": {
        "id": "ZIxSrPxmbGYZ"
      },
      "execution_count": null,
      "outputs": []
    },
    {
      "cell_type": "markdown",
      "source": [
        "Textual answer to question 1 goes here."
      ],
      "metadata": {
        "id": "Od1B4oGdbaSC"
      }
    },
    {
      "cell_type": "markdown",
      "source": [
        "# Question 2 (10 points)\n",
        "\n",
        "Remove class_2, so it becomes a binary problem now. Split the dataset into a testing and a training set using 65% of the data for training and the rest for testing. Use the built-in sklearn functionality for this, any other way will not be graded."
      ],
      "metadata": {
        "id": "Hl5dZFu7lDg5"
      }
    },
    {
      "cell_type": "code",
      "source": [
        "##### Code block for Question 2"
      ],
      "metadata": {
        "id": "QDAUtNuAlUyI"
      },
      "execution_count": null,
      "outputs": []
    },
    {
      "cell_type": "markdown",
      "source": [
        "# Question 3 (30 points)\n",
        "\n",
        "Use the perceptron algorithm (with default settings and the correct seed) to build a model on the training set and report the model's accuracy."
      ],
      "metadata": {
        "id": "V6grDh8FlVtS"
      }
    },
    {
      "cell_type": "code",
      "source": [
        "##### Code block for Question 3"
      ],
      "metadata": {
        "id": "OAmTADedkDN0"
      },
      "execution_count": null,
      "outputs": []
    },
    {
      "cell_type": "markdown",
      "source": [
        "# Question 4 (20 points)\n",
        "\n",
        "Show the classification report for the built model. In the text cell, following the code block for question 4, descibe what findings can be infered from the classification report. Mention at least 3 observations."
      ],
      "metadata": {
        "id": "UDBERCfzkTIK"
      }
    },
    {
      "cell_type": "code",
      "source": [
        "##### Code block for Question 4"
      ],
      "metadata": {
        "id": "OlQED2C0kSQ-"
      },
      "execution_count": null,
      "outputs": []
    },
    {
      "cell_type": "markdown",
      "source": [
        "Textual answer to question 4 goes here."
      ],
      "metadata": {
        "id": "axlGZ10EkumL"
      }
    },
    {
      "cell_type": "markdown",
      "source": [
        "# Question 5 (30 points)\n",
        "\n",
        "Use the trained model to make predictions on the test set. Output AND plot the confusion matrix from the model's predictions. \n",
        "\n",
        "In the second code cell, plot side by side: On the left side, the test set and its labels (using features Alcohol as the X axis and Alcalinity of Ash as the Y axis) with each point colored depending its class label. On the right side, the actual predictions (use the same Alcohol as the X axis and Alcalinity of Ash as the Y axis) with each point colored depending on its class label."
      ],
      "metadata": {
        "id": "D5FbmbFolUE-"
      }
    },
    {
      "cell_type": "code",
      "source": [
        "##### Code block for Question 5 - part 1"
      ],
      "metadata": {
        "id": "7-wRvWY7mvJ4"
      },
      "execution_count": null,
      "outputs": []
    },
    {
      "cell_type": "code",
      "source": [
        "##### Code block for Question 5 - part 2"
      ],
      "metadata": {
        "id": "y-pa14x0myPD"
      },
      "execution_count": null,
      "outputs": []
    },
    {
      "cell_type": "markdown",
      "source": [
        "# Question 6 (10 points) \n",
        "\n",
        "a) Do the plot right plot on Question 5 - part 2 match the confusion matrix of part 1?\n",
        "\n",
        "b) Any interesting observations from the predictions and the model performance? (write at least 2)"
      ],
      "metadata": {
        "id": "d0uKcXIWm2gZ"
      }
    },
    {
      "cell_type": "markdown",
      "source": [
        "Textual answer to question 6 a goes here."
      ],
      "metadata": {
        "id": "fUv67lIDnQVt"
      }
    },
    {
      "cell_type": "markdown",
      "source": [
        "Textual answer to question 6 b goes here."
      ],
      "metadata": {
        "id": "vekeBSBBnS8d"
      }
    },
    {
      "cell_type": "markdown",
      "source": [
        "# Question 7 (10 points)\n",
        "\n",
        "Reload the Wine dataset and split the dataset into a testing and a training set using 65% of the data for training and the rest for testing. Use the built-in sklearn functionality for this, any other way will not be graded."
      ],
      "metadata": {
        "id": "5FAvUA_LptZA"
      }
    },
    {
      "cell_type": "code",
      "source": [
        "##### Code block for Question 7"
      ],
      "metadata": {
        "id": "OVEa6yRHpsVp"
      },
      "execution_count": null,
      "outputs": []
    },
    {
      "cell_type": "markdown",
      "source": [
        "# Question 8 (30 points)\n",
        "\n",
        "Use the Decision Tree algorithm (with default settings and the correct seed) to build a model on the training set and report the model's accuracy."
      ],
      "metadata": {
        "id": "7GCTkGwOqFP7"
      }
    },
    {
      "cell_type": "code",
      "source": [
        "##### Code block for Question 8"
      ],
      "metadata": {
        "id": "io8-k2M-prgl"
      },
      "execution_count": null,
      "outputs": []
    },
    {
      "cell_type": "markdown",
      "source": [
        "# Question 9 (20 points)\n",
        "\n",
        "Show the classification report for the built model. In the text cell, following the code block for question 9, descibe what findings can be infered from the classification report. Mention at least 3 observations."
      ],
      "metadata": {
        "id": "3VYbQk6ZqsjC"
      }
    },
    {
      "cell_type": "code",
      "source": [
        "##### Code block for Question 9"
      ],
      "metadata": {
        "id": "qRZWpYIBq0aA"
      },
      "execution_count": null,
      "outputs": []
    },
    {
      "cell_type": "markdown",
      "source": [
        "Textual answer to question 9 goes here."
      ],
      "metadata": {
        "id": "HeH9Cdnzq1QF"
      }
    },
    {
      "cell_type": "markdown",
      "source": [
        "# Question 10 (30 points)\n",
        "\n",
        "Use the trained model to make predictions on the test set. Output AND plot the confusion matrix from the model's predictions. \n",
        "\n",
        "In the second code cell, plot side by side: On the left side, the test set and its labels (using features Alcohol as the X axis and Alcalinity of Ash as the Y axis) with each point colored depending its class label. On the right side, the actual predictions (use the same Alcohol as the X axis and Alcalinity of Ash as the Y axis) with each point colored depending on its class label."
      ],
      "metadata": {
        "id": "CIqq_7v0rIhB"
      }
    },
    {
      "cell_type": "code",
      "source": [
        "##### Code block for Question 10 - part 1"
      ],
      "metadata": {
        "id": "GFT8khVUrQ_2"
      },
      "execution_count": null,
      "outputs": []
    },
    {
      "cell_type": "code",
      "source": [
        "##### Code block for Question 10 - part 2"
      ],
      "metadata": {
        "id": "Zoh1vJDArQ_3"
      },
      "execution_count": null,
      "outputs": []
    },
    {
      "cell_type": "markdown",
      "source": [
        "# Question 11 (30 points) \n",
        "\n",
        "a) Do the plot right plot on Question 10 - part 2 match the confusion matrix of part 1?\n",
        "\n",
        "b) Any interesting observations from the predictions and the model performance? (write at least 2)\n",
        "\n",
        "c) Plot the figure from question 10 - part 2 using the `visualize_classifier` function given during the class example from 2/20/2023."
      ],
      "metadata": {
        "id": "MoOX9SsqrY1m"
      }
    },
    {
      "cell_type": "markdown",
      "source": [
        "Textual answer to question 11 a goes here."
      ],
      "metadata": {
        "id": "qDsw0eoyrY1n"
      }
    },
    {
      "cell_type": "markdown",
      "source": [
        "Textual answer to question 11 b goes here."
      ],
      "metadata": {
        "id": "5CBnH3bQrY1o"
      }
    },
    {
      "cell_type": "code",
      "source": [
        "##### Code block for Question 11 - part c"
      ],
      "metadata": {
        "id": "JU01ze5mryO5"
      },
      "execution_count": null,
      "outputs": []
    },
    {
      "cell_type": "markdown",
      "source": [
        "# Question 12 (10 points)\n",
        "\n",
        "Reload the Wine dataset and split the dataset into a testing and a training set using 65% of the data for training and the rest for testing. Use the built-in sklearn functionality for this, any other way will not be graded."
      ],
      "metadata": {
        "id": "VyZzK3XpsBgd"
      }
    },
    {
      "cell_type": "code",
      "source": [
        "##### Code block for Question 12"
      ],
      "metadata": {
        "id": "hGTZs31MsBge"
      },
      "execution_count": null,
      "outputs": []
    },
    {
      "cell_type": "markdown",
      "source": [
        "# Question 13 (30 points)\n",
        "\n",
        "Use the Logistic Regression (with as this is a multi-class problem, use the **One Vs Rest algorithm** we must use `liblinear` solver and the correct seed) to build a model on the training set and report the model's accuracy."
      ],
      "metadata": {
        "id": "FTWIgD0rsBge"
      }
    },
    {
      "cell_type": "code",
      "source": [
        "##### Code block for Question 13"
      ],
      "metadata": {
        "id": "7uu_vP4OsBgf"
      },
      "execution_count": null,
      "outputs": []
    },
    {
      "cell_type": "markdown",
      "source": [
        "# Question 14 (20 points)\n",
        "\n",
        "Show the classification report for the built model. In the text cell, following the code block for question 14, descibe what findings can be infered from the classification report. Mention at least 3 observations."
      ],
      "metadata": {
        "id": "nU8SRq6TsBgf"
      }
    },
    {
      "cell_type": "code",
      "source": [
        "##### Code block for Question 14"
      ],
      "metadata": {
        "id": "pXIQ7hO6sBgf"
      },
      "execution_count": null,
      "outputs": []
    },
    {
      "cell_type": "markdown",
      "source": [
        "Textual answer to question 14 goes here."
      ],
      "metadata": {
        "id": "LVep3OJ1sBgf"
      }
    },
    {
      "cell_type": "markdown",
      "source": [
        "# Question 15 (30 points)\n",
        "\n",
        "Use the trained model to make predictions on the test set. Output AND plot the confusion matrix from the model's predictions. \n",
        "\n",
        "In the second code cell, plot side by side: On the left side, the test set and its labels (using features Alcohol as the X axis and Alcalinity of Ash as the Y axis) with each point colored depending its class label. On the right side, the actual predictions (use the same Alcohol as the X axis and Alcalinity of Ash as the Y axis) with each point colored depending on its class label."
      ],
      "metadata": {
        "id": "1DQxkgAbsBgg"
      }
    },
    {
      "cell_type": "code",
      "source": [
        "##### Code block for Question 15 - part 1"
      ],
      "metadata": {
        "id": "l9A4AifNsBgg"
      },
      "execution_count": null,
      "outputs": []
    },
    {
      "cell_type": "code",
      "source": [
        "##### Code block for Question 15 - part 2"
      ],
      "metadata": {
        "id": "wF7X9vnGsBgg"
      },
      "execution_count": null,
      "outputs": []
    },
    {
      "cell_type": "markdown",
      "source": [
        "# Question 16 (20 points) \n",
        "\n",
        "a) Do the plot right plot on Question 15 - part 2 match the confusion matrix of part 1?\n",
        "\n",
        "b) Any interesting observations from the predictions and the model performance? (write at least 2)"
      ],
      "metadata": {
        "id": "7Fh0OKRzsBgh"
      }
    },
    {
      "cell_type": "markdown",
      "source": [
        "Textual answer to question 16 a goes here."
      ],
      "metadata": {
        "id": "67skrMZwsBgh"
      }
    },
    {
      "cell_type": "markdown",
      "source": [
        "Textual answer to question 16 b goes here."
      ],
      "metadata": {
        "id": "bWus1xG9sBgh"
      }
    },
    {
      "cell_type": "markdown",
      "source": [
        "# Question 17 (10 points)\n",
        "\n",
        "Create AND display dataframe containing in each row the accruacy, precision, recall for each of the models built. \n",
        "\n",
        "In the textual answer cell, discuss which one is the best performing model and why?"
      ],
      "metadata": {
        "id": "W888Kt2Btame"
      }
    },
    {
      "cell_type": "code",
      "source": [
        "##### Code block for Question 17"
      ],
      "metadata": {
        "id": "WdrGJIy3tZlc"
      },
      "execution_count": null,
      "outputs": []
    },
    {
      "cell_type": "markdown",
      "source": [
        "Textual answer to question 17 goes here."
      ],
      "metadata": {
        "id": "VEnK8F_Lt5V8"
      }
    },
    {
      "cell_type": "markdown",
      "source": [
        "# Graduate Student Question: (50 points)\n",
        "\n",
        "Modify the `visualize_classifier` function provided during the 2/20/2023 class to be able to work in 3 dimensions (currently only works in two dimensions). Take the Decision Tree classifier model from Question 8 and plot the separation of the classes using the following axes: (Alcohol as the X axis and Alcalinity of Ash as the Y axis, and Ash as the Z axis).\n"
      ],
      "metadata": {
        "id": "ziqaH6VEuBJK"
      }
    },
    {
      "cell_type": "code",
      "source": [
        "##### Code block for Graduate Student Question"
      ],
      "metadata": {
        "id": "a17SE-ZcuALz"
      },
      "execution_count": null,
      "outputs": []
    }
  ]
}